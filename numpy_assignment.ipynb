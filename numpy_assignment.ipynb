{
 "cells": [
  {
   "cell_type": "markdown",
   "id": "0d08bb7c",
   "metadata": {},
   "source": [
    "1. What is a Python library? Why do we use Python libraries?"
   ]
  },
  {
   "cell_type": "markdown",
   "id": "df68a6b6",
   "metadata": {},
   "source": [
    "In Python programming, a library is a collection of pre-written, reusable code modules that provide functionality for various tasks. These modules contain functions, classes, and variables that can be imported and used in your own Python programs.\n",
    "\n",
    "Here are the key reasons why Python libraries are so valuable:\n",
    "\n",
    "1.Save Time and Effort\n",
    "\n",
    "2.Enhance Code Quality and Maintainability\n",
    "\n",
    "3.Access Specialized Functionality"
   ]
  },
  {
   "cell_type": "code",
   "execution_count": null,
   "id": "2b35f4a4",
   "metadata": {},
   "outputs": [],
   "source": []
  },
  {
   "cell_type": "markdown",
   "id": "5247fff8",
   "metadata": {},
   "source": [
    "2. What is the difference between Numpy array and List?"
   ]
  },
  {
   "cell_type": "markdown",
   "id": "399b7966",
   "metadata": {},
   "source": [
    "NumPy Array: Enforces homogeneity, meaning all elements must be of the same data type (e.g., integers, floats, strings). This uniformity allows for efficient storage and operations.\n",
    "\n",
    "List: Can hold elements of heterogeneous data types (e.g., mix of integers, strings, booleans) within the same list. This flexibility comes at the cost of less efficient memory usage and certain operations."
   ]
  },
  {
   "cell_type": "code",
   "execution_count": null,
   "id": "f3f5069c",
   "metadata": {},
   "outputs": [],
   "source": []
  },
  {
   "cell_type": "markdown",
   "id": "5e6e524b",
   "metadata": {},
   "source": [
    "3. Find the shape, size and dimension of the following array?\n",
    "\n",
    "[[1, 2, 3, 4]\n",
    "\n",
    "[5, 6, 7, 8],\n",
    "\n",
    "[9, 10, 11, 12]]"
   ]
  },
  {
   "cell_type": "code",
   "execution_count": 1,
   "id": "0d74eed8",
   "metadata": {},
   "outputs": [],
   "source": [
    "import numpy as np"
   ]
  },
  {
   "cell_type": "code",
   "execution_count": 2,
   "id": "48ebff97",
   "metadata": {},
   "outputs": [],
   "source": [
    "arr=np.array([[1,2,3,4],[5,6,7,8],[9,10,11,12]])"
   ]
  },
  {
   "cell_type": "code",
   "execution_count": 5,
   "id": "f41b7b20",
   "metadata": {},
   "outputs": [
    {
     "data": {
      "text/plain": [
       "(3, 4)"
      ]
     },
     "execution_count": 5,
     "metadata": {},
     "output_type": "execute_result"
    }
   ],
   "source": [
    "arr.shape"
   ]
  },
  {
   "cell_type": "code",
   "execution_count": 6,
   "id": "59bac9d0",
   "metadata": {},
   "outputs": [
    {
     "data": {
      "text/plain": [
       "12"
      ]
     },
     "execution_count": 6,
     "metadata": {},
     "output_type": "execute_result"
    }
   ],
   "source": [
    "arr.size"
   ]
  },
  {
   "cell_type": "code",
   "execution_count": 7,
   "id": "0d0bcd77",
   "metadata": {},
   "outputs": [
    {
     "data": {
      "text/plain": [
       "2"
      ]
     },
     "execution_count": 7,
     "metadata": {},
     "output_type": "execute_result"
    }
   ],
   "source": [
    "arr.ndim"
   ]
  },
  {
   "cell_type": "code",
   "execution_count": null,
   "id": "673af963",
   "metadata": {},
   "outputs": [],
   "source": []
  },
  {
   "cell_type": "markdown",
   "id": "1057601d",
   "metadata": {},
   "source": [
    "4. Write python code to access the first row of the following array?"
   ]
  },
  {
   "cell_type": "code",
   "execution_count": 8,
   "id": "86ecbec5",
   "metadata": {},
   "outputs": [
    {
     "data": {
      "text/plain": [
       "array([1, 2, 3, 4])"
      ]
     },
     "execution_count": 8,
     "metadata": {},
     "output_type": "execute_result"
    }
   ],
   "source": [
    "arr[0]"
   ]
  },
  {
   "cell_type": "code",
   "execution_count": null,
   "id": "e920f4ea",
   "metadata": {},
   "outputs": [],
   "source": []
  },
  {
   "cell_type": "markdown",
   "id": "ecdb93af",
   "metadata": {},
   "source": [
    "5. How do you access the element at the third row and fourth column from the given numpy array?"
   ]
  },
  {
   "cell_type": "code",
   "execution_count": 11,
   "id": "6c4d6b84",
   "metadata": {},
   "outputs": [
    {
     "data": {
      "text/plain": [
       "12"
      ]
     },
     "execution_count": 11,
     "metadata": {},
     "output_type": "execute_result"
    }
   ],
   "source": [
    "arr[2][3]"
   ]
  },
  {
   "cell_type": "code",
   "execution_count": 13,
   "id": "79aeac85",
   "metadata": {},
   "outputs": [],
   "source": [
    "#or"
   ]
  },
  {
   "cell_type": "code",
   "execution_count": 12,
   "id": "df783067",
   "metadata": {},
   "outputs": [
    {
     "data": {
      "text/plain": [
       "12"
      ]
     },
     "execution_count": 12,
     "metadata": {},
     "output_type": "execute_result"
    }
   ],
   "source": [
    "arr[2,3]"
   ]
  },
  {
   "cell_type": "code",
   "execution_count": null,
   "id": "95552e92",
   "metadata": {},
   "outputs": [],
   "source": []
  },
  {
   "cell_type": "markdown",
   "id": "b78b6c61",
   "metadata": {},
   "source": [
    "6. Write code to extract all odd-indexed elements from the given numpy array?"
   ]
  },
  {
   "cell_type": "code",
   "execution_count": 17,
   "id": "67bf91df",
   "metadata": {},
   "outputs": [
    {
     "name": "stdout",
     "output_type": "stream",
     "text": [
      "[ 1  3  5  7  9 11]\n"
     ]
    }
   ],
   "source": [
    "odd_element=arr[arr%2 != 0]\n",
    "print(odd_element)"
   ]
  },
  {
   "cell_type": "code",
   "execution_count": null,
   "id": "2bfb7e1b",
   "metadata": {},
   "outputs": [],
   "source": []
  },
  {
   "cell_type": "markdown",
   "id": "054eb9a2",
   "metadata": {},
   "source": [
    "7. How can you generate a ran^om 3x3 matrix with values between 0 an^ 1?"
   ]
  },
  {
   "cell_type": "code",
   "execution_count": 20,
   "id": "725e6208",
   "metadata": {},
   "outputs": [
    {
     "data": {
      "text/plain": [
       "array([[0., 0., 0.],\n",
       "       [0., 0., 0.],\n",
       "       [0., 0., 0.]])"
      ]
     },
     "execution_count": 20,
     "metadata": {},
     "output_type": "execute_result"
    }
   ],
   "source": [
    "np.zeros((3,3))"
   ]
  },
  {
   "cell_type": "code",
   "execution_count": 21,
   "id": "56154057",
   "metadata": {},
   "outputs": [],
   "source": [
    "#or"
   ]
  },
  {
   "cell_type": "code",
   "execution_count": 23,
   "id": "227c1e42",
   "metadata": {},
   "outputs": [
    {
     "data": {
      "text/plain": [
       "array([[1., 1., 1.],\n",
       "       [1., 1., 1.],\n",
       "       [1., 1., 1.]])"
      ]
     },
     "execution_count": 23,
     "metadata": {},
     "output_type": "execute_result"
    }
   ],
   "source": [
    "np.ones((3,3))"
   ]
  },
  {
   "cell_type": "code",
   "execution_count": null,
   "id": "bd9ee01f",
   "metadata": {},
   "outputs": [],
   "source": []
  },
  {
   "cell_type": "markdown",
   "id": "68fb93c2",
   "metadata": {},
   "source": [
    "8. Describe the difference between np.randomrand and np.random.randn ?"
   ]
  },
  {
   "cell_type": "code",
   "execution_count": 25,
   "id": "573d69a7",
   "metadata": {},
   "outputs": [
    {
     "data": {
      "text/plain": [
       "array([[0.38824025, 0.4945125 , 0.93667601],\n",
       "       [0.55580337, 0.75791802, 0.72471605]])"
      ]
     },
     "execution_count": 25,
     "metadata": {},
     "output_type": "execute_result"
    }
   ],
   "source": [
    " np.random.rand(2,3)"
   ]
  },
  {
   "cell_type": "code",
   "execution_count": 26,
   "id": "ae35d527",
   "metadata": {},
   "outputs": [
    {
     "data": {
      "text/plain": [
       "array([[-0.1850542 ,  0.94459567, -1.23794994],\n",
       "       [ 1.08469797,  1.17589651,  0.31000391]])"
      ]
     },
     "execution_count": 26,
     "metadata": {},
     "output_type": "execute_result"
    }
   ],
   "source": [
    " np.random.randn(2,3)"
   ]
  },
  {
   "cell_type": "code",
   "execution_count": null,
   "id": "25f570da",
   "metadata": {},
   "outputs": [],
   "source": []
  },
  {
   "cell_type": "markdown",
   "id": "e26c71af",
   "metadata": {},
   "source": [
    "9. Write code to increase the dimension of the following array?"
   ]
  },
  {
   "cell_type": "code",
   "execution_count": 27,
   "id": "5d1d5b45",
   "metadata": {},
   "outputs": [
    {
     "data": {
      "text/plain": [
       "array([[ 1,  2,  3,  4],\n",
       "       [ 5,  6,  7,  8],\n",
       "       [ 9, 10, 11, 12]])"
      ]
     },
     "execution_count": 27,
     "metadata": {},
     "output_type": "execute_result"
    }
   ],
   "source": [
    "arr"
   ]
  },
  {
   "cell_type": "code",
   "execution_count": 28,
   "id": "98de7f97",
   "metadata": {},
   "outputs": [
    {
     "data": {
      "text/plain": [
       "2"
      ]
     },
     "execution_count": 28,
     "metadata": {},
     "output_type": "execute_result"
    }
   ],
   "source": [
    "arr.ndim"
   ]
  },
  {
   "cell_type": "code",
   "execution_count": 29,
   "id": "33ae5755",
   "metadata": {},
   "outputs": [],
   "source": [
    "arr1=np.expand_dims(arr, axis=0)"
   ]
  },
  {
   "cell_type": "code",
   "execution_count": 30,
   "id": "fb50ec7f",
   "metadata": {},
   "outputs": [
    {
     "data": {
      "text/plain": [
       "array([[[ 1,  2,  3,  4],\n",
       "        [ 5,  6,  7,  8],\n",
       "        [ 9, 10, 11, 12]]])"
      ]
     },
     "execution_count": 30,
     "metadata": {},
     "output_type": "execute_result"
    }
   ],
   "source": [
    "arr1"
   ]
  },
  {
   "cell_type": "code",
   "execution_count": 31,
   "id": "be787592",
   "metadata": {},
   "outputs": [
    {
     "data": {
      "text/plain": [
       "3"
      ]
     },
     "execution_count": 31,
     "metadata": {},
     "output_type": "execute_result"
    }
   ],
   "source": [
    "arr1.ndim"
   ]
  },
  {
   "cell_type": "code",
   "execution_count": null,
   "id": "fb6ce0c8",
   "metadata": {},
   "outputs": [],
   "source": []
  },
  {
   "cell_type": "markdown",
   "id": "599d470f",
   "metadata": {},
   "source": [
    "10. How to transpose the following array in NumPy?"
   ]
  },
  {
   "cell_type": "code",
   "execution_count": 35,
   "id": "a9ce6979",
   "metadata": {},
   "outputs": [
    {
     "name": "stdout",
     "output_type": "stream",
     "text": [
      "[[ 1  5  9]\n",
      " [ 2  6 10]\n",
      " [ 3  7 11]\n",
      " [ 4  8 12]]\n"
     ]
    }
   ],
   "source": [
    "arr_transpose = arr.T\n",
    "print(arr_transpose)"
   ]
  },
  {
   "cell_type": "code",
   "execution_count": null,
   "id": "7d492b75",
   "metadata": {},
   "outputs": [],
   "source": []
  },
  {
   "cell_type": "markdown",
   "id": "3067cead",
   "metadata": {},
   "source": [
    "11. Consider the following matrix:\n",
    "\n",
    "Matrix A2 [[1, 2, 3, 4] [5, 6, 7, 8],[9, 10, 11, 12]]\n",
    "\n",
    "Matrix B2 [[1, 2, 3, 4] [5, 6, 7, 8],[9, 10, 11, 12]]\n",
    "\n",
    "Perform the following operation using Python"
   ]
  },
  {
   "cell_type": "markdown",
   "id": "6a6b7b70",
   "metadata": {},
   "source": [
    "Index wise multiplication"
   ]
  },
  {
   "cell_type": "code",
   "execution_count": 40,
   "id": "3f666b6b",
   "metadata": {},
   "outputs": [],
   "source": [
    "a2 = np.array([[1, 2, 3, 4] ,[5, 6, 7, 8],[9, 10, 11, 12]])\n",
    "b2 = np.array([[1, 2, 3, 4] ,[5, 6, 7, 8],[9, 10, 11, 12]])"
   ]
  },
  {
   "cell_type": "code",
   "execution_count": 41,
   "id": "38a862d4",
   "metadata": {},
   "outputs": [
    {
     "data": {
      "text/plain": [
       "array([[  1,   4,   9,  16],\n",
       "       [ 25,  36,  49,  64],\n",
       "       [ 81, 100, 121, 144]])"
      ]
     },
     "execution_count": 41,
     "metadata": {},
     "output_type": "execute_result"
    }
   ],
   "source": [
    "a2*b2"
   ]
  },
  {
   "cell_type": "markdown",
   "id": "90be92b1",
   "metadata": {},
   "source": [
    " Matrix multiplication"
   ]
  },
  {
   "cell_type": "code",
   "execution_count": 51,
   "id": "1f7c4b0a",
   "metadata": {},
   "outputs": [
    {
     "name": "stdout",
     "output_type": "stream",
     "text": [
      "[[ 38  44  50]\n",
      " [ 98 116 134]\n",
      " [158 188 218]]\n"
     ]
    }
   ],
   "source": [
    "a2 = np.array([[1, 2, 3] ,[5, 6, 7],[9, 10, 11]])\n",
    "b2 = np.array([[1, 2, 3] ,[5, 6, 7],[9, 10, 11]])\n",
    "c=a2@b2\n",
    "print(c)"
   ]
  },
  {
   "cell_type": "markdown",
   "id": "961e7f2f",
   "metadata": {},
   "source": [
    "Add both the matrics"
   ]
  },
  {
   "cell_type": "code",
   "execution_count": 48,
   "id": "54965fb3",
   "metadata": {},
   "outputs": [
    {
     "data": {
      "text/plain": [
       "array([[ 2,  4,  6,  8],\n",
       "       [10, 12, 14, 16],\n",
       "       [18, 20, 22, 24]])"
      ]
     },
     "execution_count": 48,
     "metadata": {},
     "output_type": "execute_result"
    }
   ],
   "source": [
    "a2+b2"
   ]
  },
  {
   "cell_type": "markdown",
   "id": "9d547f12",
   "metadata": {},
   "source": [
    "subtract matrix B from matrix A"
   ]
  },
  {
   "cell_type": "code",
   "execution_count": 49,
   "id": "dc74dfd1",
   "metadata": {},
   "outputs": [
    {
     "data": {
      "text/plain": [
       "array([[0, 0, 0, 0],\n",
       "       [0, 0, 0, 0],\n",
       "       [0, 0, 0, 0]])"
      ]
     },
     "execution_count": 49,
     "metadata": {},
     "output_type": "execute_result"
    }
   ],
   "source": [
    "b2-a2"
   ]
  },
  {
   "cell_type": "markdown",
   "id": "ed8d8f7e",
   "metadata": {},
   "source": [
    "Divide matrix B by A"
   ]
  },
  {
   "cell_type": "code",
   "execution_count": 50,
   "id": "f66de2f3",
   "metadata": {},
   "outputs": [
    {
     "data": {
      "text/plain": [
       "array([[1., 1., 1., 1.],\n",
       "       [1., 1., 1., 1.],\n",
       "       [1., 1., 1., 1.]])"
      ]
     },
     "execution_count": 50,
     "metadata": {},
     "output_type": "execute_result"
    }
   ],
   "source": [
    "b2/a2"
   ]
  },
  {
   "cell_type": "code",
   "execution_count": null,
   "id": "58051bcb",
   "metadata": {},
   "outputs": [],
   "source": []
  },
  {
   "cell_type": "markdown",
   "id": "d305bb5b",
   "metadata": {},
   "source": [
    "12.  Which function in Numpy can be used to swap the byte order of an array?"
   ]
  },
  {
   "cell_type": "markdown",
   "id": "8eb2b78c",
   "metadata": {},
   "source": [
    "To swap the byte order of an array in NumPy, you have a couple of options:\n",
    "\n",
    "ndarray.byteswap():\n",
    "    \n",
    "1.This method allows you to toggle between low-endian and big-endian data representation.\n",
    "\n",
    "2.It returns a byteswapped array, optionally swapped in-place.\n",
    "\n",
    "3.The real and imaginary parts of a complex number are swapped individually"
   ]
  },
  {
   "cell_type": "code",
   "execution_count": 2,
   "id": "4149700b",
   "metadata": {},
   "outputs": [
    {
     "name": "stdout",
     "output_type": "stream",
     "text": [
      "Swapped 2D array: [[ 256  512]\n",
      " [ 768 1024]]\n"
     ]
    }
   ],
   "source": [
    "import numpy as np\n",
    "matrix = np.array([[1, 2], [3, 4]], dtype='int16')\n",
    "swapped_matrix = matrix.byteswap(inplace=False)\n",
    "print(f\"Swapped 2D array: {swapped_matrix}\")"
   ]
  },
  {
   "cell_type": "markdown",
   "id": "8286896f",
   "metadata": {},
   "source": [
    "arr.newbyteorder():\n",
    "\n",
    "1.You can also change the byte-ordering information in the array dtype.\n",
    "\n",
    "2.This affects how the array interprets the underlying data as being in a different byte order."
   ]
  },
  {
   "cell_type": "code",
   "execution_count": 7,
   "id": "0d7f1540",
   "metadata": {},
   "outputs": [
    {
     "name": "stdout",
     "output_type": "stream",
     "text": [
      "[  1 770]\n"
     ]
    }
   ],
   "source": [
    "big_end_buffer = bytearray([0, 1, 3, 2])\n",
    "big_end_arr = np.ndarray(shape=(2,), dtype='>i2', buffer=big_end_buffer)\n",
    "print(big_end_arr)"
   ]
  },
  {
   "cell_type": "code",
   "execution_count": null,
   "id": "5d028267",
   "metadata": {},
   "outputs": [],
   "source": []
  },
  {
   "cell_type": "markdown",
   "id": "3da95c8f",
   "metadata": {},
   "source": [
    "13.  What is the significance of the np.linalg.inv function?"
   ]
  },
  {
   "cell_type": "markdown",
   "id": "44184e87",
   "metadata": {},
   "source": [
    "np.linalg.inv is essential for finding the inverse of a matrix, which is crucial for solving various mathematical and scientific problems like:\n",
    "\n",
    "1.Solving systems of equations\n",
    "\n",
    "2.Performing geometric transformations\n",
    "\n",
    "3.Operations in calculus\n",
    "\n",
    "4.Machine learning algorithms"
   ]
  },
  {
   "cell_type": "code",
   "execution_count": null,
   "id": "15942ab0",
   "metadata": {},
   "outputs": [],
   "source": []
  },
  {
   "cell_type": "markdown",
   "id": "3b79a8c0",
   "metadata": {},
   "source": [
    "14. What does the np.reshape function do, and how is it used?"
   ]
  },
  {
   "cell_type": "markdown",
   "id": "b92123bc",
   "metadata": {},
   "source": [
    "The np.reshape function in NumPy is used to change the shape of an array without modifying its underlying data. It essentially rearranges the elements of the array into a new configuration, as long as the total number of elements remains the same."
   ]
  },
  {
   "cell_type": "code",
   "execution_count": 1,
   "id": "cddc7485",
   "metadata": {},
   "outputs": [
    {
     "name": "stdout",
     "output_type": "stream",
     "text": [
      "Original array:\n",
      " [1 2 3 4 5 6]\n",
      "Reshaped array:\n",
      " [[1 2 3]\n",
      " [4 5 6]]\n"
     ]
    }
   ],
   "source": [
    "import numpy as np\n",
    "\n",
    "arr = np.array([1, 2, 3, 4, 5, 6])\n",
    "\n",
    "reshaped_arr = np.reshape(arr, (2, 3))\n",
    "\n",
    "print(\"Original array:\\n\", arr)\n",
    "print(\"Reshaped array:\\n\", reshaped_arr)\n"
   ]
  },
  {
   "cell_type": "code",
   "execution_count": null,
   "id": "e2bcba5f",
   "metadata": {},
   "outputs": [],
   "source": []
  },
  {
   "cell_type": "markdown",
   "id": "faad451a",
   "metadata": {},
   "source": [
    "15. What is broadcasting in Numpy?"
   ]
  },
  {
   "cell_type": "markdown",
   "id": "717cced4",
   "metadata": {},
   "source": [
    "Broadcasting in NumPy refers to a powerful mechanism that allows performing element-wise operations on arrays with different shapes under certain conditions. It essentially \"stretches\" the smaller array to match the dimensions of the larger array, enabling efficient calculations without explicit loops."
   ]
  },
  {
   "cell_type": "code",
   "execution_count": 8,
   "id": "1fc5852d",
   "metadata": {},
   "outputs": [
    {
     "name": "stdout",
     "output_type": "stream",
     "text": [
      "[[2 3 4]\n",
      " [3 4 5]\n",
      " [4 5 6]]\n"
     ]
    }
   ],
   "source": [
    "import numpy as np\n",
    "\n",
    "arr1 = np.array([1, 2, 3])\n",
    "arr2 = np.array([[1], [2], [3]])\n",
    "\n",
    "added = arr1 + arr2\n",
    "print(added)\n"
   ]
  },
  {
   "cell_type": "code",
   "execution_count": null,
   "id": "c6b5c426",
   "metadata": {},
   "outputs": [],
   "source": []
  },
  {
   "cell_type": "code",
   "execution_count": null,
   "id": "21712eb2",
   "metadata": {},
   "outputs": [],
   "source": []
  },
  {
   "cell_type": "code",
   "execution_count": null,
   "id": "cd5733a8",
   "metadata": {},
   "outputs": [],
   "source": []
  },
  {
   "cell_type": "code",
   "execution_count": null,
   "id": "847674c8",
   "metadata": {},
   "outputs": [],
   "source": []
  }
 ],
 "metadata": {
  "kernelspec": {
   "display_name": "Python 3 (ipykernel)",
   "language": "python",
   "name": "python3"
  },
  "language_info": {
   "codemirror_mode": {
    "name": "ipython",
    "version": 3
   },
   "file_extension": ".py",
   "mimetype": "text/x-python",
   "name": "python",
   "nbconvert_exporter": "python",
   "pygments_lexer": "ipython3",
   "version": "3.11.5"
  }
 },
 "nbformat": 4,
 "nbformat_minor": 5
}
